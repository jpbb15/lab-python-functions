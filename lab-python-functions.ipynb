{
 "cells": [
  {
   "cell_type": "markdown",
   "id": "25d7736c-ba17-4aff-b6bb-66eba20fbf4e",
   "metadata": {},
   "source": [
    "# Lab | Functions"
   ]
  },
  {
   "cell_type": "markdown",
   "id": "0c581062-8967-4d93-b06e-62833222f930",
   "metadata": {
    "tags": []
   },
   "source": [
    "## Exercise: Managing Customer Orders with Functions\n",
    "\n",
    "In the previous exercise, you improved the code for managing customer orders by using loops and flow control. Now, let's take it a step further and refactor the code by introducing functions.\n",
    "\n",
    "Follow the steps below to complete the exercise:\n",
    "\n",
    "1. Define a function named `initialize_inventory` that takes `products` as a parameter. Inside the function, implement the code for initializing the inventory dictionary using a loop and user input.\n",
    "\n",
    "2. Define a function named `get_customer_orders` that takes no parameters. Inside the function, implement the code for prompting the user to enter the product names using a loop. The function should return the `customer_orders` set.\n",
    "\n",
    "3. Define a function named `update_inventory` that takes `customer_orders` and `inventory` as parameters. Inside the function, implement the code for updating the inventory dictionary based on the customer orders.\n",
    "\n",
    "4. Define a function named `calculate_order_statistics` that takes `customer_orders` and `products` as parameters. Inside the function, implement the code for calculating the order statistics (total products ordered, and percentage of unique products ordered). The function should return these values.\n",
    "\n",
    "5. Define a function named `print_order_statistics` that takes `order_statistics` as a parameter. Inside the function, implement the code for printing the order statistics.\n",
    "\n",
    "6. Define a function named `print_updated_inventory` that takes `inventory` as a parameter. Inside the function, implement the code for printing the updated inventory.\n",
    "\n",
    "7. Call the functions in the appropriate sequence to execute the program and manage customer orders.\n",
    "\n",
    "Hints for functions:\n",
    "\n",
    "- Consider the input parameters required for each function and their return values.\n",
    "- Utilize function parameters and return values to transfer data between functions.\n",
    "- Test your functions individually to ensure they work correctly.\n",
    "\n",
    "\n"
   ]
  },
  {
   "cell_type": "code",
   "execution_count": 3,
   "id": "96f13c24",
   "metadata": {},
   "outputs": [
    {
     "data": {
      "text/plain": [
       "{'t-shirt': 6, 'mug': 7, 'hat': 8, 'book': 9, 'keychain': 10}"
      ]
     },
     "execution_count": 3,
     "metadata": {},
     "output_type": "execute_result"
    }
   ],
   "source": [
    "#1\n",
    "\n",
    "def initialize_inventory(products):\n",
    "\n",
    "    inventory = {}\n",
    "\n",
    "    for i in range(products):\n",
    "        prod = input(\"Enter the product: \")\n",
    "        quantity = int(input(\"Enter the quantity available: \"))\n",
    "        inventory[prod] = quantity\n",
    "    return inventory\n",
    "\n",
    "initialize_inventory(5)\n",
    "    "
   ]
  },
  {
   "cell_type": "code",
   "execution_count": 4,
   "id": "873ec713",
   "metadata": {},
   "outputs": [
    {
     "data": {
      "text/plain": [
       "{'book', 'hat', 'mug'}"
      ]
     },
     "execution_count": 4,
     "metadata": {},
     "output_type": "execute_result"
    }
   ],
   "source": [
    "#2\n",
    "\n",
    "def get_customer_orders():\n",
    "    customer_orders = set()\n",
    "    for i in range(3):\n",
    "        product_choice = input(\"Enter the  product that you want to order: \")\n",
    "        customer_orders.add(product_choice)\n",
    "    return customer_orders\n",
    "\n",
    "get_customer_orders()"
   ]
  },
  {
   "cell_type": "code",
   "execution_count": 59,
   "id": "db6b7ac2",
   "metadata": {},
   "outputs": [
    {
     "data": {
      "text/plain": [
       "{'t-shirt': 6, 'mug': 7, 'hat': 8, 'book': 9, 'keychain': 10}"
      ]
     },
     "execution_count": 59,
     "metadata": {},
     "output_type": "execute_result"
    }
   ],
   "source": [
    "#3\n",
    "\n",
    "def update_inventory(customer_orders, inventory):\n",
    "    for k, v in inventory.items():\n",
    "        if k == customer_orders:\n",
    "            inventory[v] -= 1\n",
    "    return inventory\n",
    "\n",
    "update_inventory(({'t-shirt', 'hat', 'keychain'}), ({'t-shirt': 6, 'mug': 7, 'hat': 8, 'book': 9, 'keychain': 10}))\n",
    "    "
   ]
  },
  {
   "cell_type": "code",
   "execution_count": 42,
   "id": "475b6a94",
   "metadata": {},
   "outputs": [
    {
     "data": {
      "text/plain": [
       "(3, 7.5)"
      ]
     },
     "execution_count": 42,
     "metadata": {},
     "output_type": "execute_result"
    }
   ],
   "source": [
    "#4\n",
    "\n",
    "def calculate_order_statistics(customer_orders, products):\n",
    "    total_products_ordered = len(customer_orders)\n",
    "    percentage_products_ordered = (len(customer_orders) / products) * 100\n",
    "    order_status = (total_products_ordered, percentage_products_ordered)\n",
    "\n",
    "    return order_status\n",
    "\n",
    "calculate_order_statistics({'book', 'hat', 'mug'}, 40)    "
   ]
  },
  {
   "cell_type": "code",
   "execution_count": 45,
   "id": "62a7af09",
   "metadata": {},
   "outputs": [
    {
     "ename": "NameError",
     "evalue": "name 'total_products_ordered' is not defined",
     "output_type": "error",
     "traceback": [
      "\u001b[1;31m---------------------------------------------------------------------------\u001b[0m",
      "\u001b[1;31mNameError\u001b[0m                                 Traceback (most recent call last)",
      "Cell \u001b[1;32mIn[45], line 7\u001b[0m\n\u001b[0;32m      4\u001b[0m     order_statistics \u001b[38;5;241m=\u001b[39m \u001b[38;5;28mprint\u001b[39m(\u001b[38;5;124m\"\u001b[39m\u001b[38;5;124mTotal Products Ordered:\u001b[39m\u001b[38;5;124m\"\u001b[39m, total_products_ordered, \u001b[38;5;124m\"\u001b[39m\u001b[38;5;124m Percentage of Products Ordered:\u001b[39m\u001b[38;5;124m\"\u001b[39m, percentage_products_ordered)\n\u001b[0;32m      5\u001b[0m     \u001b[38;5;28;01mreturn\u001b[39;00m order_statistics\n\u001b[1;32m----> 7\u001b[0m print_order_statistics((\u001b[38;5;241m3\u001b[39m, \u001b[38;5;241m7.5\u001b[39m))\n",
      "Cell \u001b[1;32mIn[45], line 4\u001b[0m, in \u001b[0;36mprint_order_statistics\u001b[1;34m(order_statistics)\u001b[0m\n\u001b[0;32m      3\u001b[0m \u001b[38;5;28;01mdef\u001b[39;00m \u001b[38;5;21mprint_order_statistics\u001b[39m(order_statistics):\n\u001b[1;32m----> 4\u001b[0m     order_statistics \u001b[38;5;241m=\u001b[39m \u001b[38;5;28mprint\u001b[39m(\u001b[38;5;124m\"\u001b[39m\u001b[38;5;124mTotal Products Ordered:\u001b[39m\u001b[38;5;124m\"\u001b[39m, total_products_ordered, \u001b[38;5;124m\"\u001b[39m\u001b[38;5;124m Percentage of Products Ordered:\u001b[39m\u001b[38;5;124m\"\u001b[39m, percentage_products_ordered)\n\u001b[0;32m      5\u001b[0m     \u001b[38;5;28;01mreturn\u001b[39;00m order_statistics\n",
      "\u001b[1;31mNameError\u001b[0m: name 'total_products_ordered' is not defined"
     ]
    }
   ],
   "source": [
    "#5\n",
    "\n",
    "def print_order_statistics(order_statistics):\n",
    "    order_statistics = print(\"Total Products Ordered:\", total_products_ordered, \" Percentage of Products Ordered:\", percentage_products_ordered)\n",
    "    return order_statistics\n",
    "\n",
    "print_order_statistics((3, 7.5))    "
   ]
  },
  {
   "cell_type": "code",
   "execution_count": null,
   "id": "f5e4349c",
   "metadata": {},
   "outputs": [],
   "source": [
    "#6\n",
    "\n",
    "def print_updated_inventory(inventory):\n",
    "    inventory = print()"
   ]
  }
 ],
 "metadata": {
  "kernelspec": {
   "display_name": "Python 3 (ipykernel)",
   "language": "python",
   "name": "python3"
  },
  "language_info": {
   "codemirror_mode": {
    "name": "ipython",
    "version": 3
   },
   "file_extension": ".py",
   "mimetype": "text/x-python",
   "name": "python",
   "nbconvert_exporter": "python",
   "pygments_lexer": "ipython3",
   "version": "3.11.7"
  }
 },
 "nbformat": 4,
 "nbformat_minor": 5
}
