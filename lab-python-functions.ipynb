{
 "cells": [
  {
   "cell_type": "markdown",
   "id": "25d7736c-ba17-4aff-b6bb-66eba20fbf4e",
   "metadata": {},
   "source": [
    "# Lab | Functions"
   ]
  },
  {
   "cell_type": "markdown",
   "id": "0c581062-8967-4d93-b06e-62833222f930",
   "metadata": {
    "tags": []
   },
   "source": [
    "## Exercise: Managing Customer Orders with Functions\n",
    "\n",
    "In the previous exercise, you improved the code for managing customer orders by using loops and flow control. Now, let's take it a step further and refactor the code by introducing functions.\n",
    "\n",
    "Follow the steps below to complete the exercise:\n",
    "\n",
    "1. Define a function named `initialize_inventory` that takes `products` as a parameter. Inside the function, implement the code for initializing the inventory dictionary using a loop and user input.\n",
    "\n",
    "2. Define a function named `get_customer_orders` that takes no parameters. Inside the function, implement the code for prompting the user to enter the product names using a loop. The function should return the `customer_orders` set.\n",
    "\n",
    "3. Define a function named `update_inventory` that takes `customer_orders` and `inventory` as parameters. Inside the function, implement the code for updating the inventory dictionary based on the customer orders.\n",
    "\n",
    "4. Define a function named `calculate_order_statistics` that takes `customer_orders` and `products` as parameters. Inside the function, implement the code for calculating the order statistics (total products ordered, and percentage of unique products ordered). The function should return these values.\n",
    "\n",
    "5. Define a function named `print_order_statistics` that takes `order_statistics` as a parameter. Inside the function, implement the code for printing the order statistics.\n",
    "\n",
    "6. Define a function named `print_updated_inventory` that takes `inventory` as a parameter. Inside the function, implement the code for printing the updated inventory.\n",
    "\n",
    "7. Call the functions in the appropriate sequence to execute the program and manage customer orders.\n",
    "\n",
    "Hints for functions:\n",
    "\n",
    "- Consider the input parameters required for each function and their return values.\n",
    "- Utilize function parameters and return values to transfer data between functions.\n",
    "- Test your functions individually to ensure they work correctly.\n",
    "\n",
    "\n"
   ]
  },
  {
   "cell_type": "code",
   "execution_count": 1,
   "id": "96f13c24",
   "metadata": {},
   "outputs": [],
   "source": [
    "#1\n",
    "\n",
    "def initialize_inventory(products):\n",
    "\n",
    "    inventory = {}\n",
    "\n",
    "    for i in range(products):\n",
    "        prod = input(\"Enter the product: \")\n",
    "        quantity = int(input(\"Enter the quantity available: \"))\n",
    "        inventory[prod] = quantity\n",
    "    return inventory\n",
    "\n",
    "inventory = initialize_inventory(5)\n",
    "    "
   ]
  },
  {
   "cell_type": "code",
   "execution_count": 2,
   "id": "676e5579",
   "metadata": {},
   "outputs": [
    {
     "data": {
      "text/plain": [
       "{'t-shirt': 6, 'mug': 8, 'hat': 9, 'keychain': 55}"
      ]
     },
     "execution_count": 2,
     "metadata": {},
     "output_type": "execute_result"
    }
   ],
   "source": [
    "inventory"
   ]
  },
  {
   "cell_type": "code",
   "execution_count": 3,
   "id": "873ec713",
   "metadata": {},
   "outputs": [],
   "source": [
    "#2\n",
    "\n",
    "def get_customer_orders():\n",
    "\n",
    "    customer_orders = set()\n",
    "    \n",
    "    for i in range(3):\n",
    "        product_choice = input(\"Enter the  product that you want to order: \")\n",
    "        customer_orders.add(product_choice)\n",
    "    return customer_orders\n",
    "\n",
    "customer_orders = get_customer_orders()"
   ]
  },
  {
   "cell_type": "code",
   "execution_count": 4,
   "id": "a7ce23d7",
   "metadata": {},
   "outputs": [
    {
     "data": {
      "text/plain": [
       "{'hat', 'keychain', 'mug'}"
      ]
     },
     "execution_count": 4,
     "metadata": {},
     "output_type": "execute_result"
    }
   ],
   "source": [
    "customer_orders"
   ]
  },
  {
   "cell_type": "code",
   "execution_count": 5,
   "id": "db6b7ac2",
   "metadata": {},
   "outputs": [],
   "source": [
    "#3\n",
    "\n",
    "def update_inventory(customer_orders, inventory):\n",
    "    \n",
    "    for product in customer_orders:\n",
    "       if product in inventory:\n",
    "          inventory[product] -= 1\n",
    "    return inventory\n",
    "\n",
    "invetory = update_inventory(customer_orders, inventory)\n",
    "    "
   ]
  },
  {
   "cell_type": "code",
   "execution_count": 6,
   "id": "9c7aae89",
   "metadata": {},
   "outputs": [
    {
     "data": {
      "text/plain": [
       "{'t-shirt': 6, 'mug': 7, 'hat': 8, 'keychain': 54}"
      ]
     },
     "execution_count": 6,
     "metadata": {},
     "output_type": "execute_result"
    }
   ],
   "source": [
    "inventory"
   ]
  },
  {
   "cell_type": "code",
   "execution_count": 7,
   "id": "475b6a94",
   "metadata": {},
   "outputs": [],
   "source": [
    "#4\n",
    "\n",
    "def calculate_order_statistics(customer_orders, inventory):\n",
    "\n",
    "    total_products_ordered = len(customer_orders)\n",
    "    percentage_products_ordered = (len(customer_orders) / sum(inventory.values())) * 100\n",
    "    order_status = (total_products_ordered, percentage_products_ordered)\n",
    "\n",
    "    return order_status\n",
    "\n",
    "calc_order_stats = calculate_order_statistics(customer_orders, inventory)   "
   ]
  },
  {
   "cell_type": "code",
   "execution_count": 8,
   "id": "cb10908e",
   "metadata": {},
   "outputs": [
    {
     "data": {
      "text/plain": [
       "(3, 4.0)"
      ]
     },
     "execution_count": 8,
     "metadata": {},
     "output_type": "execute_result"
    }
   ],
   "source": [
    "calc_order_stats"
   ]
  },
  {
   "cell_type": "code",
   "execution_count": 9,
   "id": "62a7af09",
   "metadata": {},
   "outputs": [],
   "source": [
    "#5\n",
    "\n",
    "def print_order_statistics(calc_order_stats):\n",
    "    print(\"Total Products Ordered:\", calc_order_stats[0], \" Percentage of Products Ordered:\", calc_order_stats[1],\"%\")\n",
    "    "
   ]
  },
  {
   "cell_type": "code",
   "execution_count": 10,
   "id": "f5e4349c",
   "metadata": {},
   "outputs": [
    {
     "name": "stdout",
     "output_type": "stream",
     "text": [
      "Total Products Ordered: 3  Percentage of Products Ordered: 4.0 %\n"
     ]
    }
   ],
   "source": [
    "print_order_statistics(calc_order_stats)\n"
   ]
  },
  {
   "cell_type": "code",
   "execution_count": 11,
   "id": "cc30c83a",
   "metadata": {},
   "outputs": [
    {
     "data": {
      "text/plain": [
       "{'t-shirt': 6, 'mug': 7, 'hat': 8, 'keychain': 54}"
      ]
     },
     "execution_count": 11,
     "metadata": {},
     "output_type": "execute_result"
    }
   ],
   "source": [
    "inventory"
   ]
  },
  {
   "cell_type": "code",
   "execution_count": 12,
   "id": "d36bcee8",
   "metadata": {},
   "outputs": [
    {
     "name": "stdout",
     "output_type": "stream",
     "text": [
      "{'t-shirt': 6, 'mug': 7, 'hat': 8, 'keychain': 54}\n"
     ]
    }
   ],
   "source": [
    "#6\n",
    "\n",
    "def print_updated_inventory(inventory):\n",
    "    print(inventory)\n",
    "\n",
    "print_updated_inventory(inventory)"
   ]
  }
 ],
 "metadata": {
  "kernelspec": {
   "display_name": "Python 3 (ipykernel)",
   "language": "python",
   "name": "python3"
  },
  "language_info": {
   "codemirror_mode": {
    "name": "ipython",
    "version": 3
   },
   "file_extension": ".py",
   "mimetype": "text/x-python",
   "name": "python",
   "nbconvert_exporter": "python",
   "pygments_lexer": "ipython3",
   "version": "3.11.7"
  }
 },
 "nbformat": 4,
 "nbformat_minor": 5
}
